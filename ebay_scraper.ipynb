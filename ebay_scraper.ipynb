{
 "cells": [
  {
   "cell_type": "code",
   "execution_count": 1,
   "id": "5b80b2b3",
   "metadata": {},
   "outputs": [],
   "source": [
    "import re\n",
    "from selenium import webdriver\n",
    "from selenium.webdriver.common.by import By\n",
    "from selenium.webdriver.common.keys import Keys\n",
    "from selenium.webdriver.chrome.options import Options"
   ]
  },
  {
   "cell_type": "code",
   "execution_count": 2,
   "id": "d4e0a936",
   "metadata": {},
   "outputs": [],
   "source": [
    "def search_scrape_ebay(query):\n",
    "    chrome_options = Options()\n",
    "    chrome_options.add_experimental_option(\"detach\", True)\n",
    "    driver = webdriver.Chrome(options=chrome_options)\n",
    "    driver.get(\"https://ebay.com\")\n",
    "    driver.maximize_window()\n",
    "\n",
    "    # search bar\n",
    "    search_bar = driver.find_element(By.ID, \"gh-ac\")\n",
    "    search_bar.send_keys(query)\n",
    "    search_bar.send_keys(Keys.ENTER)\n",
    "\n",
    "    # sold button\n",
    "    sold_checkbox = driver.find_element(By.CSS_SELECTOR, \"input[aria-label='Sold Items']\")\n",
    "    sold_checkbox.click()\n",
    "\n",
    "    # find image + titles + prices + URL\n",
    "    images = driver.find_elements(By.XPATH, \"//div[@class='s-item__image-wrapper image-treatment']/img\")\n",
    "    titles = driver.find_elements(By.CSS_SELECTOR, \"span[role='heading']\")\n",
    "    prices = driver.find_elements(By.CSS_SELECTOR, \"span[class='s-item__price']\")\n",
    "    urls = driver.find_elements(By.CSS_SELECTOR, \"a[class='s-item__link']\")\n",
    "\n",
    "    # calculate price markers\n",
    "    num_listings = len(titles)\n",
    "    max_price = 0.0\n",
    "    sum_prices = 0.0\n",
    "    for i in range(1, num_listings):\n",
    "        pattern = r'(\\d+\\.\\d{2})'\n",
    "        match = re.search(pattern, prices[i].text)\n",
    "        price = float(match.group())\n",
    "        max_price = max(max_price, price)\n",
    "        sum_prices += price;\n",
    "    avg_price = sum_prices / num_listings\n",
    "\n",
    "    # format to two decimal places\n",
    "    max_price = float(\"{:.2f}\".format(max_price))\n",
    "    avg_price = float(\"{:.2f}\".format(avg_price))\n",
    "    \n",
    "    sold_listings_url = driver.current_url\n",
    "    \n",
    "    driver.quit()\n",
    "    \n",
    "    return (sold_listings_url, max_price, avg_price)\n"
   ]
  },
  {
   "cell_type": "code",
   "execution_count": null,
   "id": "646d7348",
   "metadata": {},
   "outputs": [],
   "source": []
  }
 ],
 "metadata": {
  "kernelspec": {
   "display_name": "Python 3 (ipykernel)",
   "language": "python",
   "name": "python3"
  },
  "language_info": {
   "codemirror_mode": {
    "name": "ipython",
    "version": 3
   },
   "file_extension": ".py",
   "mimetype": "text/x-python",
   "name": "python",
   "nbconvert_exporter": "python",
   "pygments_lexer": "ipython3",
   "version": "3.9.12"
  }
 },
 "nbformat": 4,
 "nbformat_minor": 5
}
