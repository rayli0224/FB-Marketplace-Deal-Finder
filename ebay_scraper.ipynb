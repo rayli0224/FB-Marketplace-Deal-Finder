{
 "cells": [
  {
   "cell_type": "code",
   "execution_count": 1,
   "id": "5b80b2b3",
   "metadata": {},
   "outputs": [],
   "source": [
    "import re\n",
    "from selenium import webdriver\n",
    "from selenium.webdriver.common.by import By\n",
    "from selenium.webdriver.common.keys import Keys\n",
    "from selenium.webdriver.chrome.options import Options"
   ]
  },
  {
   "cell_type": "code",
   "execution_count": 2,
   "id": "d4e0a936",
   "metadata": {},
   "outputs": [],
   "source": [
    "def ebay_search_by_title(query):\n",
    "    chrome_options = Options()\n",
    "    chrome_options.add_experimental_option(\"detach\", True)\n",
    "    driver = webdriver.Chrome(options=chrome_options)\n",
    "    driver.get(\"https://ebay.com\")\n",
    "    driver.maximize_window()\n",
    "\n",
    "    # search bar\n",
    "    search_bar = driver.find_element(By.ID, \"gh-ac\")\n",
    "    search_bar.send_keys(query)\n",
    "    search_bar.send_keys(Keys.ENTER)\n",
    "\n",
    "    # sold button\n",
    "    sold_checkbox = driver.find_element(By.CSS_SELECTOR, \"input[aria-label='Sold Items']\")\n",
    "    sold_checkbox.click()\n",
    "\n",
    "    # find image + titles + prices + URL\n",
    "    images = driver.find_elements(By.XPATH, \"//div[@class='s-item__image-wrapper image-treatment']/img\")\n",
    "    titles = driver.find_elements(By.CSS_SELECTOR, \"span[role='heading']\")\n",
    "    prices = driver.find_elements(By.CSS_SELECTOR, \"span[class='s-item__price']\")\n",
    "    urls = driver.find_elements(By.CSS_SELECTOR, \"a[class='s-item__link']\")\n",
    "\n",
    "    # calculate price markers\n",
    "    num_listings = len(titles)\n",
    "    max_price = 0.0\n",
    "    sum_prices = 0.0\n",
    "    for i in range(1, num_listings):\n",
    "        pattern = r'(\\d+\\.\\d{2})'\n",
    "        match = re.search(pattern, prices[i].text)\n",
    "        price = float(match.group())\n",
    "        max_price = max(max_price, price)\n",
    "        sum_prices += price;\n",
    "    avg_price = sum_prices / num_listings\n",
    "\n",
    "    # format to two decimal places\n",
    "    max_price = float(\"{:.2f}\".format(max_price))\n",
    "    avg_price = float(\"{:.2f}\".format(avg_price))\n",
    "    \n",
    "    sold_listings_url = driver.current_url\n",
    "    \n",
    "    driver.quit()\n",
    "    \n",
    "    return (sold_listings_url, max_price, avg_price)\n"
   ]
  },
  {
   "cell_type": "code",
   "execution_count": null,
   "id": "646d7348",
   "metadata": {},
   "outputs": [],
   "source": [
    "import requests\n",
    "import base64\n",
    "\n",
    "url = \"https://api.ebay.com/buy/browse/v1/item_summary/search_by_image?filter=buyingOptions:{FIXED_PRICE|BEST_OFFER}\"\n",
    "\n",
    "headers = {\n",
    "    \"Authorization\": \"Bearer v^1.1#i^1#f^0#p^1#I^3#r^0#t^H4sIAAAAAAAAAOVYXWwUVRTe7Q/YQMUgSoUmbAdQtJnZOzO729kpu3H7A93Yn6W7LLVR4e7M3TLt7sx0ZrbtKoXaB1DfAKMYHqgPmKgYEmsADVFphEQQK0JEBIwiUaIFjUF4MKHemZayrYS/bmIT92Uz55577vd995x7zwzomVbwxMaajVcL7dNz+npAT47dTs8ABdPyS+/PzZmXbwMZDva+nkU9eb25F5bqMJlQ+Uakq4qsI0dXMiHrvGX0ESlN5hWoSzovwyTSeUPgw4G6Wp6hAK9qiqEISoJwBKt8BFvmKmNjbtFd5vEgLw2xVb4eM6L4CMS6Ga+bi+MhFwNphMd1PYWCsm5A2fARDGBYkqZJwEUYmncDnvVSgAXNhCOKNF1SZOxCAcJvweWtuVoG1ltDhbqONAMHIfzBwLJwQyBYVV0fWerMiOUf1SFsQCOlj3+qVETkiMJECt16Gd3y5sMpQUC6Tjj9IyuMD8oHroO5B/iW1BzjcsdYlobuMhekGW9WpFymaElo3BqHaZFEMm658kg2JCN9O0WxGrFWJBijT/U4RLDKYf6tSMGEFJeQ5iOqKwJPB0Ihwt8I07USuayiDmptyCBDjVWYRYwDUPR4SI/AQIGh6dFVRkKNajxhmUpFFiVTMd1RrxgVCENGE4VxZQiDnRrkBi0QN0w4mX7sdQGZsmZzR0e2MGWslc1NRUmsgsN6vL38Y7MNQ5NiKQONRZg4YOnjI6CqSiIxcdBKxNHc6dJ9xFrDUHmns7Ozk+pkKUVrcTIA0M6mutqwsBYlcSVavmatY3/p9hNIyaIi4BrF/ryRVjGWLpyoGIDcQvhdnJtm3aO6j4fln2j9lyGDs3N8OWSrPBgXC0QQg5w77uU4KGajPPyjGeo0caAYTJNJK0PVBBQQKeA8SyWRJok8644zLBdHpOjxxkmXNx4n8aHoIek4QgChWEzwcv+bKrnTPA8jQUNGthI9O0keDlWU1jR11CTr61BrU7zhed3TFm5siapBro4FzkgkGurQKsM1zaUrfHdaCjclX5mQsDIRvH72BDBrPRsi1Ci6gcRJ0QsLiopCSkIS0lNrg1lNDEHNSIdRIoENkyIZUNVg1g7q7NC7mzPi3khn9Xb6L26mm7LSzXydWqzM+ToOAFWJMu8eSlCSTgXipsM0mbW+2kI9Kd4SblinFGtMcoStJI50mpRFmdI7BEpDupLScJNNNZi9V0RpQzK+zAxNSSSQFp1cXpvFnEymDBhLoKlW1VlIcAlOsZuW9ni9Lg43E95J8RKse3T1VDuSsnoO55XfRTftHP9i77dZP7rXPgB67R/n2O1gKVhMLwQl03JX5uXOnKdLBqIkGKd0qUXG76saotpQWoWSlvOg7Sr4ZbswVPP2K23XOtt/Lu+2ZX5X6HsWFI19WSjIpWdkfGYAxTdG8ulZcwsZlqYBx9BuwHqbwcIbo3n0w3lzqCO7vh3Y+Vvt5V89i3pP/OFjP23ZBArHnOz2fFter90WTe89Ejz21v6DzOwlVy59M7DwzScH1x2iLs8e7K73zDq59+zQpS2buOIHho8+13Fhdxj1DxbsudhRGj72wlO7jp0ZyH318aLvth7d204dHu5+d3juzn3nfhQXv3bq/P4r21ubrm5a2b/qhxNDa1ovpg+sW3Vm44z32xyuD5Z0e95bf/6Uq6jr5ZnLiwsD0a+3fFS+Xvrs0KPtjpbpB15kSHbB8jkv7vL2b35mw+Hzg4RjqOeh1Tu2dleWbJt3tro60bfBllrxyL5tb5ze8Xe7rXz+5+8sOjpI/PT7n1/sfGzzV9Vr9lypPdh4/OS1xX+9fl/JrPWfdH1/+dx8suha8viXpxd82DC82ys6+t0lkZeKfSN7+Q9Lgzov8REAAA==\",\n",
    "    \"Content-Type\": \"application/json\",\n",
    "    \"Accept\": \"application/json\",\n",
    "    \"Content-Language\": \"en-US\"\n",
    "}"
   ]
  },
  {
   "cell_type": "code",
   "execution_count": null,
   "id": "549fa702",
   "metadata": {},
   "outputs": [],
   "source": [
    "def ebay_search_by_image(encoded_image):\n",
    "#     # Read the image file\n",
    "#     with open(\"antique.jpg\", \"rb\") as file:\n",
    "#         image_data = file.read()\n",
    "\n",
    "#     # Base64 encode the image data\n",
    "#     encoded_image = base64.b64encode(image_data).decode(\"utf-8\")\n",
    "\n",
    "    request_data = {\n",
    "        \"image\": encoded_image,\n",
    "    }\n",
    "\n",
    "    response = requests.post(url, headers=headers, json=request_data)\n",
    "    data = response.json()\n",
    "\n",
    "    max_price = 0.0\n",
    "    sum_prices = 0.0\n",
    "    num_items = 0.0\n",
    "    for item in data['itemSummaries']:\n",
    "        try:\n",
    "            price = float(item['price']['value'])\n",
    "            max_price = max(max_price, price)\n",
    "            sum_prices += price\n",
    "            num_items += 1.0\n",
    "        except:\n",
    "            continue\n",
    "\n",
    "    return (\"\", round(sum_prices / num_items, 2), max_price)"
   ]
  }
 ],
 "metadata": {
  "kernelspec": {
   "display_name": "Python 3 (ipykernel)",
   "language": "python",
   "name": "python3"
  },
  "language_info": {
   "codemirror_mode": {
    "name": "ipython",
    "version": 3
   },
   "file_extension": ".py",
   "mimetype": "text/x-python",
   "name": "python",
   "nbconvert_exporter": "python",
   "pygments_lexer": "ipython3",
   "version": "3.9.12"
  }
 },
 "nbformat": 4,
 "nbformat_minor": 5
}
