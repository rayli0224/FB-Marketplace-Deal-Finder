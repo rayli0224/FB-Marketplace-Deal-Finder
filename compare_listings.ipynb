{
 "cells": [
  {
   "cell_type": "code",
   "execution_count": 1,
   "id": "a4f8227b",
   "metadata": {
    "scrolled": false
   },
   "outputs": [
    {
     "name": "stdout",
     "output_type": "stream",
     "text": [
      "importing Jupyter notebook from fb_marketplace_scraper.ipynb\n",
      "importing Jupyter notebook from ebay_scraper.ipynb\n"
     ]
    }
   ],
   "source": [
    "import import_ipynb\n",
    "from fb_marketplace_scraper import search_scrape_fb\n",
    "from ebay_scraper import ebay_search_by_title\n",
    "from ebay_scraper import ebay_search_by_image\n",
    "import csv"
   ]
  },
  {
   "cell_type": "code",
   "execution_count": 2,
   "id": "1dd0b029",
   "metadata": {},
   "outputs": [],
   "source": [
    "# query - what you want to search on FB marketplace\n",
    "# percentage - percentage you want the listing to be under historical sales (e.g. <= 30 % of historical ebay sales)\n",
    "def filter_listings(query, percentage):\n",
    "    avg_threshold_listings = []\n",
    "    max_threshold_listings = []\n",
    "    fb_listings = search_scrape_fb(query)\n",
    "    for fb_listing in fb_listings:\n",
    "        # search ebay by title\n",
    "        ebay_listings_title = ebay_search_by_title(fb_listing[0])\n",
    "        max_threshold_value = percentage * ebay_listings_title[1]\n",
    "        avg_threshold_value = percentage * ebay_listings_title[2]\n",
    "        fb_listing += ebay_listings_title\n",
    "        if fb_listing[1] <= avg_threshold_value:\n",
    "            avg_threshold_listings.append(fb_listing)\n",
    "        elif fb_listing[1] <= max_threshold_value:\n",
    "            max_threshold_listings.append(fb_listing)\n",
    "        else:\n",
    "            continue\n",
    "    return (avg_threshold_listings, max_threshold_listings)\n",
    "        "
   ]
  },
  {
   "cell_type": "code",
   "execution_count": 3,
   "id": "85b92e94",
   "metadata": {
    "scrolled": true
   },
   "outputs": [
    {
     "name": "stdout",
     "output_type": "stream",
     "text": [
      "Error loading Facebook Marketplace, trying again.\n"
     ]
    },
    {
     "ename": "NoSuchWindowException",
     "evalue": "Message: no such window: target window already closed\nfrom unknown error: web view not found\n  (Session info: chrome=119.0.6045.106)\nStacktrace:\n\tGetHandleVerifier [0x00007FF6F19E82B2+55298]\n\t(No symbol) [0x00007FF6F1955E02]\n\t(No symbol) [0x00007FF6F18105AB]\n\t(No symbol) [0x00007FF6F17F0038]\n\t(No symbol) [0x00007FF6F1876BC7]\n\t(No symbol) [0x00007FF6F188A15F]\n\t(No symbol) [0x00007FF6F1871E83]\n\t(No symbol) [0x00007FF6F184670A]\n\t(No symbol) [0x00007FF6F1847964]\n\tGetHandleVerifier [0x00007FF6F1D60AAB+3694587]\n\tGetHandleVerifier [0x00007FF6F1DB728E+4048862]\n\tGetHandleVerifier [0x00007FF6F1DAF173+4015811]\n\tGetHandleVerifier [0x00007FF6F1A847D6+695590]\n\t(No symbol) [0x00007FF6F1960CE8]\n\t(No symbol) [0x00007FF6F195CF34]\n\t(No symbol) [0x00007FF6F195D062]\n\t(No symbol) [0x00007FF6F194D3A3]\n\tBaseThreadInitThunk [0x00007FFFDBBD7614+20]\n\tRtlUserThreadStart [0x00007FFFDBF226B1+33]\n",
     "output_type": "error",
     "traceback": [
      "\u001b[1;31m---------------------------------------------------------------------------\u001b[0m",
      "\u001b[1;31mNoSuchWindowException\u001b[0m                     Traceback (most recent call last)",
      "Input \u001b[1;32mIn [3]\u001b[0m, in \u001b[0;36m<cell line: 1>\u001b[1;34m()\u001b[0m\n\u001b[1;32m----> 1\u001b[0m filtered_listings \u001b[38;5;241m=\u001b[39m \u001b[43mfilter_listings\u001b[49m\u001b[43m(\u001b[49m\u001b[38;5;124;43m\"\u001b[39;49m\u001b[38;5;124;43messentials\u001b[39;49m\u001b[38;5;124;43m\"\u001b[39;49m\u001b[43m,\u001b[49m\u001b[43m \u001b[49m\u001b[38;5;241;43m0.3\u001b[39;49m\u001b[43m)\u001b[49m\n\u001b[0;32m      2\u001b[0m avg_threshold_listings \u001b[38;5;241m=\u001b[39m filtered_listings[\u001b[38;5;241m0\u001b[39m]\n\u001b[0;32m      3\u001b[0m max_threshold_listings \u001b[38;5;241m=\u001b[39m filtered_listings[\u001b[38;5;241m1\u001b[39m]\n",
      "Input \u001b[1;32mIn [2]\u001b[0m, in \u001b[0;36mfilter_listings\u001b[1;34m(query, percentage)\u001b[0m\n\u001b[0;32m      6\u001b[0m fb_listings \u001b[38;5;241m=\u001b[39m search_scrape_fb(query)\n\u001b[0;32m      7\u001b[0m \u001b[38;5;28;01mfor\u001b[39;00m fb_listing \u001b[38;5;129;01min\u001b[39;00m fb_listings:\n\u001b[1;32m----> 8\u001b[0m     ebay_listings_title \u001b[38;5;241m=\u001b[39m \u001b[43mebay_search_by_title\u001b[49m\u001b[43m(\u001b[49m\u001b[43mfb_listing\u001b[49m\u001b[43m[\u001b[49m\u001b[38;5;241;43m0\u001b[39;49m\u001b[43m]\u001b[49m\u001b[43m)\u001b[49m\n\u001b[0;32m      9\u001b[0m     max_threshold_value \u001b[38;5;241m=\u001b[39m percentage \u001b[38;5;241m*\u001b[39m ebay_listings_title[\u001b[38;5;241m1\u001b[39m]\n\u001b[0;32m     10\u001b[0m     avg_threshold_value \u001b[38;5;241m=\u001b[39m percentage \u001b[38;5;241m*\u001b[39m ebay_listings_title[\u001b[38;5;241m2\u001b[39m]\n",
      "File \u001b[1;32m<string>:20\u001b[0m, in \u001b[0;36mebay_search_by_title\u001b[1;34m(query)\u001b[0m\n",
      "File \u001b[1;32m~\\anaconda3\\lib\\site-packages\\selenium\\webdriver\\remote\\webdriver.py:768\u001b[0m, in \u001b[0;36mWebDriver.find_elements\u001b[1;34m(self, by, value)\u001b[0m\n\u001b[0;32m    764\u001b[0m     value \u001b[38;5;241m=\u001b[39m \u001b[38;5;124mf\u001b[39m\u001b[38;5;124m'\u001b[39m\u001b[38;5;124m[name=\u001b[39m\u001b[38;5;124m\"\u001b[39m\u001b[38;5;132;01m{\u001b[39;00mvalue\u001b[38;5;132;01m}\u001b[39;00m\u001b[38;5;124m\"\u001b[39m\u001b[38;5;124m]\u001b[39m\u001b[38;5;124m'\u001b[39m\n\u001b[0;32m    766\u001b[0m \u001b[38;5;66;03m# Return empty list if driver returns null\u001b[39;00m\n\u001b[0;32m    767\u001b[0m \u001b[38;5;66;03m# See https://github.com/SeleniumHQ/selenium/issues/4555\u001b[39;00m\n\u001b[1;32m--> 768\u001b[0m \u001b[38;5;28;01mreturn\u001b[39;00m \u001b[38;5;28;43mself\u001b[39;49m\u001b[38;5;241;43m.\u001b[39;49m\u001b[43mexecute\u001b[49m\u001b[43m(\u001b[49m\u001b[43mCommand\u001b[49m\u001b[38;5;241;43m.\u001b[39;49m\u001b[43mFIND_ELEMENTS\u001b[49m\u001b[43m,\u001b[49m\u001b[43m \u001b[49m\u001b[43m{\u001b[49m\u001b[38;5;124;43m\"\u001b[39;49m\u001b[38;5;124;43musing\u001b[39;49m\u001b[38;5;124;43m\"\u001b[39;49m\u001b[43m:\u001b[49m\u001b[43m \u001b[49m\u001b[43mby\u001b[49m\u001b[43m,\u001b[49m\u001b[43m \u001b[49m\u001b[38;5;124;43m\"\u001b[39;49m\u001b[38;5;124;43mvalue\u001b[39;49m\u001b[38;5;124;43m\"\u001b[39;49m\u001b[43m:\u001b[49m\u001b[43m \u001b[49m\u001b[43mvalue\u001b[49m\u001b[43m}\u001b[49m\u001b[43m)\u001b[49m[\u001b[38;5;124m\"\u001b[39m\u001b[38;5;124mvalue\u001b[39m\u001b[38;5;124m\"\u001b[39m] \u001b[38;5;129;01mor\u001b[39;00m []\n",
      "File \u001b[1;32m~\\anaconda3\\lib\\site-packages\\selenium\\webdriver\\remote\\webdriver.py:344\u001b[0m, in \u001b[0;36mWebDriver.execute\u001b[1;34m(self, driver_command, params)\u001b[0m\n\u001b[0;32m    342\u001b[0m response \u001b[38;5;241m=\u001b[39m \u001b[38;5;28mself\u001b[39m\u001b[38;5;241m.\u001b[39mcommand_executor\u001b[38;5;241m.\u001b[39mexecute(driver_command, params)\n\u001b[0;32m    343\u001b[0m \u001b[38;5;28;01mif\u001b[39;00m response:\n\u001b[1;32m--> 344\u001b[0m     \u001b[38;5;28;43mself\u001b[39;49m\u001b[38;5;241;43m.\u001b[39;49m\u001b[43merror_handler\u001b[49m\u001b[38;5;241;43m.\u001b[39;49m\u001b[43mcheck_response\u001b[49m\u001b[43m(\u001b[49m\u001b[43mresponse\u001b[49m\u001b[43m)\u001b[49m\n\u001b[0;32m    345\u001b[0m     response[\u001b[38;5;124m\"\u001b[39m\u001b[38;5;124mvalue\u001b[39m\u001b[38;5;124m\"\u001b[39m] \u001b[38;5;241m=\u001b[39m \u001b[38;5;28mself\u001b[39m\u001b[38;5;241m.\u001b[39m_unwrap_value(response\u001b[38;5;241m.\u001b[39mget(\u001b[38;5;124m\"\u001b[39m\u001b[38;5;124mvalue\u001b[39m\u001b[38;5;124m\"\u001b[39m, \u001b[38;5;28;01mNone\u001b[39;00m))\n\u001b[0;32m    346\u001b[0m     \u001b[38;5;28;01mreturn\u001b[39;00m response\n",
      "File \u001b[1;32m~\\anaconda3\\lib\\site-packages\\selenium\\webdriver\\remote\\errorhandler.py:229\u001b[0m, in \u001b[0;36mErrorHandler.check_response\u001b[1;34m(self, response)\u001b[0m\n\u001b[0;32m    227\u001b[0m         alert_text \u001b[38;5;241m=\u001b[39m value[\u001b[38;5;124m\"\u001b[39m\u001b[38;5;124malert\u001b[39m\u001b[38;5;124m\"\u001b[39m]\u001b[38;5;241m.\u001b[39mget(\u001b[38;5;124m\"\u001b[39m\u001b[38;5;124mtext\u001b[39m\u001b[38;5;124m\"\u001b[39m)\n\u001b[0;32m    228\u001b[0m     \u001b[38;5;28;01mraise\u001b[39;00m exception_class(message, screen, stacktrace, alert_text)  \u001b[38;5;66;03m# type: ignore[call-arg]  # mypy is not smart enough here\u001b[39;00m\n\u001b[1;32m--> 229\u001b[0m \u001b[38;5;28;01mraise\u001b[39;00m exception_class(message, screen, stacktrace)\n",
      "\u001b[1;31mNoSuchWindowException\u001b[0m: Message: no such window: target window already closed\nfrom unknown error: web view not found\n  (Session info: chrome=119.0.6045.106)\nStacktrace:\n\tGetHandleVerifier [0x00007FF6F19E82B2+55298]\n\t(No symbol) [0x00007FF6F1955E02]\n\t(No symbol) [0x00007FF6F18105AB]\n\t(No symbol) [0x00007FF6F17F0038]\n\t(No symbol) [0x00007FF6F1876BC7]\n\t(No symbol) [0x00007FF6F188A15F]\n\t(No symbol) [0x00007FF6F1871E83]\n\t(No symbol) [0x00007FF6F184670A]\n\t(No symbol) [0x00007FF6F1847964]\n\tGetHandleVerifier [0x00007FF6F1D60AAB+3694587]\n\tGetHandleVerifier [0x00007FF6F1DB728E+4048862]\n\tGetHandleVerifier [0x00007FF6F1DAF173+4015811]\n\tGetHandleVerifier [0x00007FF6F1A847D6+695590]\n\t(No symbol) [0x00007FF6F1960CE8]\n\t(No symbol) [0x00007FF6F195CF34]\n\t(No symbol) [0x00007FF6F195D062]\n\t(No symbol) [0x00007FF6F194D3A3]\n\tBaseThreadInitThunk [0x00007FFFDBBD7614+20]\n\tRtlUserThreadStart [0x00007FFFDBF226B1+33]\n"
     ]
    }
   ],
   "source": [
    "filtered_listings = filter_listings(\"essentials\", 0.3)\n",
    "avg_threshold_listings = filtered_listings[0]\n",
    "max_threshold_listings = filtered_listings[1]"
   ]
  },
  {
   "cell_type": "code",
   "execution_count": 7,
   "id": "a487f15b",
   "metadata": {},
   "outputs": [],
   "source": [
    "# convert filtered listings in to csv file\n",
    "header = [\"Title:\", \"Price (USD):\", \"FB URL:\", \"Ebay URL:\", \"Max Sold Price:\", \"Avg Sold Price:\"]\n",
    "\n",
    "with open(\"avg_threshold_listings.csv\", 'w', newline='') as file:\n",
    "    writer = csv.writer(file)\n",
    "    writer.writerow(header)\n",
    "    writer.writerows(avg_threshold_listings)\n",
    "    \n",
    "with open(\"max_threshold_listings.csv\", 'w', newline='') as file:\n",
    "    writer = csv.writer(file)\n",
    "    writer.writerow(header)\n",
    "    writer.writerows(max_threshold_listings)"
   ]
  }
 ],
 "metadata": {
  "kernelspec": {
   "display_name": "Python 3 (ipykernel)",
   "language": "python",
   "name": "python3"
  },
  "language_info": {
   "codemirror_mode": {
    "name": "ipython",
    "version": 3
   },
   "file_extension": ".py",
   "mimetype": "text/x-python",
   "name": "python",
   "nbconvert_exporter": "python",
   "pygments_lexer": "ipython3",
   "version": "3.9.12"
  }
 },
 "nbformat": 4,
 "nbformat_minor": 5
}
