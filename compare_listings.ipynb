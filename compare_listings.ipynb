{
 "cells": [
  {
   "cell_type": "code",
   "execution_count": 1,
   "id": "a4f8227b",
   "metadata": {
    "scrolled": false
   },
   "outputs": [
    {
     "name": "stdout",
     "output_type": "stream",
     "text": [
      "importing Jupyter notebook from ebay_scraper.ipynb\n",
      "importing Jupyter notebook from fb_marketplace_scraper.ipynb\n"
     ]
    }
   ],
   "source": [
    "import import_ipynb\n",
    "from ebay_scraper import search_scrape_ebay\n",
    "from fb_marketplace_scraper import search_scrape_fb\n",
    "import csv"
   ]
  },
  {
   "cell_type": "code",
   "execution_count": 2,
   "id": "1dd0b029",
   "metadata": {},
   "outputs": [],
   "source": [
    "# query - what you want to search on FB marketplace\n",
    "# percentage - percentage you want the listing to be under historical sales (e.g. <= 30 % of historical ebay sales)\n",
    "def filter_listings(query, percentage):\n",
    "    avg_threshold_listings = []\n",
    "    max_threshold_listings = []\n",
    "    fb_listings = search_scrape_fb(query)\n",
    "    for fb_listing in fb_listings:\n",
    "        ebay_listings = search_scrape_ebay(fb_listing[0])\n",
    "        max_threshold_value = percentage * ebay_listings[1]\n",
    "        avg_threshold_value = percentage * ebay_listings[2]\n",
    "        fb_listing += ebay_listings\n",
    "        if fb_listing[1] <= avg_threshold_value:\n",
    "            avg_threshold_listings.append(fb_listing)\n",
    "        elif fb_listing[1] <= max_threshold_value:\n",
    "            max_threshold_listings.append(fb_listing)\n",
    "        else:\n",
    "            continue\n",
    "    return (avg_threshold_listings, max_threshold_listings)\n",
    "        "
   ]
  },
  {
   "cell_type": "code",
   "execution_count": 3,
   "id": "85b92e94",
   "metadata": {
    "scrolled": true
   },
   "outputs": [],
   "source": [
    "filtered_listings = filter_listings(\"essentials\", 0.3)\n",
    "avg_threshold_listings = filtered_listings[0]\n",
    "max_threshold_listings = filtered_listings[1]"
   ]
  },
  {
   "cell_type": "code",
   "execution_count": 7,
   "id": "a487f15b",
   "metadata": {},
   "outputs": [],
   "source": [
    "# convert filtered listings in to csv file\n",
    "header = [\"Title:\", \"Price (USD):\", \"FB URL:\", \"Ebay URL:\", \"Max Sold Price:\", \"Avg Sold Price:\"]\n",
    "\n",
    "with open(\"avg_threshold_listings.csv\", 'w', newline='') as file:\n",
    "    writer = csv.writer(file)\n",
    "    writer.writerow(header)\n",
    "    writer.writerows(avg_threshold_listings)\n",
    "    \n",
    "with open(\"max_threshold_listings.csv\", 'w', newline='') as file:\n",
    "    writer = csv.writer(file)\n",
    "    writer.writerow(header)\n",
    "    writer.writerows(max_threshold_listings)"
   ]
  }
 ],
 "metadata": {
  "kernelspec": {
   "display_name": "Python 3 (ipykernel)",
   "language": "python",
   "name": "python3"
  },
  "language_info": {
   "codemirror_mode": {
    "name": "ipython",
    "version": 3
   },
   "file_extension": ".py",
   "mimetype": "text/x-python",
   "name": "python",
   "nbconvert_exporter": "python",
   "pygments_lexer": "ipython3",
   "version": "3.9.12"
  }
 },
 "nbformat": 4,
 "nbformat_minor": 5
}
